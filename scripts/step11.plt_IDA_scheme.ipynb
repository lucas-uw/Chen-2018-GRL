{
 "cells": [
  {
   "cell_type": "markdown",
   "metadata": {},
   "source": [
    "## Description:\n",
    "\n",
    "This script creates Figure 1"
   ]
  },
  {
   "cell_type": "code",
   "execution_count": 1,
   "metadata": {},
   "outputs": [],
   "source": [
    "import numpy as np\n",
    "import netCDF4 as nc\n",
    "import scipy.io as sio\n",
    "import matplotlib\n",
    "import matplotlib.pyplot as plt\n",
    "import cartopy\n",
    "import cartopy.crs as ccrs\n",
    "\n",
    "%matplotlib inline"
   ]
  },
  {
   "cell_type": "code",
   "execution_count": 2,
   "metadata": {},
   "outputs": [],
   "source": [
    "rootdir = '/raid1/chen423/serdp/archive/GRL2018/'"
   ]
  },
  {
   "cell_type": "code",
   "execution_count": 3,
   "metadata": {},
   "outputs": [],
   "source": [
    "def plot_WRF_domain_boundary(axes, infile, **kwargs):\n",
    "    tmpgroup = nc.Dataset(infile, 'r', format='NETCDF4')\n",
    "    lat_matrix = tmpgroup.variables['XLAT'][0,:,:]\n",
    "    lon_matrix = tmpgroup.variables['XLONG'][0,:,:]\n",
    "    nx, ny = lat_matrix.shape[0:2]\n",
    "    axes.plot(lon_matrix[0,:], lat_matrix[0,:], **kwargs)\n",
    "    axes.plot(lon_matrix[nx-1,:], lat_matrix[nx-1,:], **kwargs)\n",
    "    axes.plot(lon_matrix[:,0], lat_matrix[:,0], **kwargs)\n",
    "    axes.plot(lon_matrix[:,ny-1], lat_matrix[:,ny-1], **kwargs)"
   ]
  },
  {
   "cell_type": "markdown",
   "metadata": {},
   "source": [
    "#### AR feature extraction"
   ]
  },
  {
   "cell_type": "code",
   "execution_count": 4,
   "metadata": {},
   "outputs": [],
   "source": [
    "from skimage.draw import polygon\n",
    "from skimage import measure"
   ]
  },
  {
   "cell_type": "code",
   "execution_count": 5,
   "metadata": {},
   "outputs": [],
   "source": [
    "def get_nc_data(infile, var):\n",
    "    tmpgroup = nc.Dataset(infile, 'r')#, format='NETCDF4')\n",
    "    outdata_raw = tmpgroup.variables[var][0:248,:,:]\n",
    "    tmpgroup.close()\n",
    "    \n",
    "    outdata = np.zeros(outdata_raw.shape)\n",
    "    outdata[:,:,0:288] = outdata_raw[:,:,288:576]\n",
    "    outdata[:,:,288:576] = outdata_raw[:,:,0:288]\n",
    "    \n",
    "    return outdata"
   ]
  },
  {
   "cell_type": "code",
   "execution_count": 6,
   "metadata": {},
   "outputs": [],
   "source": [
    "# get all the reference data\n",
    "reffile = rootdir+'data/ref_data/ARanalysis_ref_data.nc'\n",
    "refgroup = nc.Dataset(reffile, 'r', format='NETCDF4')\n",
    "landmask_NA = refgroup.variables['landmask_NA'][:]\n",
    "gridarea = refgroup.variables['gridarea'][:]\n",
    "west_coast_pt_xs = refgroup.variables['pt_x'][:]\n",
    "west_coast_pt_ys = refgroup.variables['pt_y'][:]\n",
    "west_coast_pt_lats = refgroup.variables['pt_lat'][:]\n",
    "west_coast_pt_lons = refgroup.variables['pt_lon'][:]\n",
    "lat = refgroup.variables['lat'][:]\n",
    "lon = refgroup.variables['lon'][:]\n",
    "refgroup.close()\n",
    "\n",
    "lons, lats = np.meshgrid(lon, lat)"
   ]
  },
  {
   "cell_type": "markdown",
   "metadata": {},
   "source": [
    "## 1. create the sample AR data"
   ]
  },
  {
   "cell_type": "code",
   "execution_count": 8,
   "metadata": {},
   "outputs": [],
   "source": [
    "AR_sig_file = rootdir+'data/ARTMIP/AR_identify/rutz/rutz.1981.nc'\n",
    "AR_sig_data = get_nc_data(AR_sig_file, 'ar_binary_tag')"
   ]
  },
  {
   "cell_type": "code",
   "execution_count": 9,
   "metadata": {},
   "outputs": [],
   "source": [
    "IVT_file = rootdir+'data/ARTMIP/MERRA_IVT/IVT.1981.nc'\n",
    "IVT_data = get_nc_data(IVT_file, 'IVT')"
   ]
  },
  {
   "cell_type": "code",
   "execution_count": 10,
   "metadata": {},
   "outputs": [],
   "source": [
    "snap = 167\n",
    "npatch = 40\n",
    "\n",
    "test_sig = AR_sig_data[snap,:,:]\n",
    "debug_ARmask = np.ones(AR_sig_data[0,:,:].shape)\n",
    "\n",
    "contours_AR = measure.find_contours(test_sig, 0.99999)\n",
    "AR_contour = contours_AR[npatch]\n",
    "\n",
    "AR_contour_int = np.zeros(AR_contour.shape, dtype=int)\n",
    "for i in np.arange(AR_contour.shape[0]):\n",
    "    AR_contour_int[i,0] = int(AR_contour[i,0])\n",
    "    AR_contour_int[i,1] = int(AR_contour[i,1])\n",
    "\n",
    "rr, cc = polygon(AR_contour[:,0]-1, AR_contour[:,1]-1, test_sig.shape)\n",
    "debug_ARmask[rr,cc] = 0\n",
    "\n",
    "ARland_mask = np.zeros(AR_sig_data[0,:,:].shape)\n",
    "for i in np.arange(ARland_mask.shape[0]):\n",
    "    for j in np.arange(ARland_mask.shape[1]):\n",
    "        if debug_ARmask[i,j]==0 and landmask_NA[i,j]==0:\n",
    "            ARland_mask[i,j] = IVT_data[snap,i,j]\n",
    "            "
   ]
  },
  {
   "cell_type": "code",
   "execution_count": 7,
   "metadata": {},
   "outputs": [],
   "source": [
    "#tmpfile = rootdir+'data/intermediate_data/demo_data.mat'\n",
    "#sio.savemat(tmpfile, {'ARland_mask':ARland_mask, 'AR_contour_int':AR_contour_int})"
   ]
  },
  {
   "cell_type": "markdown",
   "metadata": {},
   "source": [
    "## 2. load the data, make the plot"
   ]
  },
  {
   "cell_type": "code",
   "execution_count": 7,
   "metadata": {},
   "outputs": [],
   "source": [
    "tmpfile = rootdir+'data/intermediate_data/demo_data.mat'\n",
    "ARland_mask = sio.loadmat(tmpfile)['ARland_mask']\n",
    "AR_contour_int = sio.loadmat(tmpfile)['AR_contour_int']"
   ]
  },
  {
   "cell_type": "code",
   "execution_count": 8,
   "metadata": {
    "scrolled": false
   },
   "outputs": [
    {
     "data": {
      "image/png": "[encoded data removed]",
      "text/plain": [
       "<Figure size 360x432 with 2 Axes>"
      ]
     },
     "metadata": {},
     "output_type": "display_data"
    }
   ],
   "source": [
    "fig1 = plt.figure(figsize=(5,6))\n",
    "\n",
    "ax1 = plt.subplot2grid((1,11), (0,0), colspan=10, projection=ccrs.PlateCarree())\n",
    "ax1.set_xlim([-130, -115])\n",
    "ax1.set_ylim([30, 50])\n",
    "\n",
    "ax1.add_feature(cartopy.feature.OCEAN, linewidth=0.5, facecolor='aliceblue', edgecolor='k', zorder=0)\n",
    "ax1.add_feature(cartopy.feature.LAND, linewidth=0.5, facecolor='none', edgecolor='k', zorder=1)\n",
    "\n",
    "countries = cartopy.feature.NaturalEarthFeature(category='cultural', scale='10m', edgecolor='black', linewidth=0.25,\\\n",
    "                                                facecolor='none', name='admin_1_states_provinces')\n",
    "ax1.add_feature(countries, zorder=3)\n",
    "\n",
    "ax1.plot(lons[AR_contour_int[:,0],AR_contour_int[:,1]], lats[AR_contour_int[:,0],AR_contour_int[:,1]],\n",
    "         linewidth=2, color='red')\n",
    "ARland_mask[ARland_mask==0]=np.nan\n",
    "ax1.pcolormesh(lons, lats, ARland_mask, cmap='viridis', vmin=300, vmax=800)\n",
    "\n",
    "# add gridline\n",
    "gl = ax1.gridlines(crs=ccrs.PlateCarree(), draw_labels=False, linestyle='--', alpha=0.5)\n",
    "gl.xlabels_top = False\n",
    "gl.xlocator = matplotlib.ticker.FixedLocator(np.arange(-180,-59,10))\n",
    "gl.ylocator = matplotlib.ticker.FixedLocator(np.arange(0,81,10))\n",
    "gl.xformatter = cartopy.mpl.gridliner.LONGITUDE_FORMATTER\n",
    "gl.yformatter = cartopy.mpl.gridliner.LATITUDE_FORMATTER\n",
    "\n",
    "# add ticklabels\n",
    "ax1.set_xticks(np.arange(-130,-109,10), crs=ccrs.PlateCarree())\n",
    "ax1.set_yticks(np.arange(30, 51, 10), crs=ccrs.PlateCarree())\n",
    "ax1.set_xticklabels(('140°W','130°W','120°W','110°W','100°W','90°W','80°W'))\n",
    "ax1.set_yticklabels(('30°N','40°N','50°N'))\n",
    "ax1.tick_params(labelright=False, labelsize=10)\n",
    "\n",
    "cbar_axes = fig1.add_axes([0.87, 0.25, 0.02, 0.5])\n",
    "cb = matplotlib.colorbar.ColorbarBase(cbar_axes, cmap='viridis', ticks=[np.arange(0,1.01,0.2)], orientation='vertical')\n",
    "cb.set_ticklabels(['300', '400', '500', '600', '700', '800'])\n",
    "cbar_axes.tick_params(labelsize=11)\n",
    "#cbar_axes.text(5.2, -0.02, 'kg/m/s', size=11)\n",
    "cbar_axes.text(1.1, -0.09, 'kg/m/s', size=11)\n",
    "cbar_axes.text(0.6, 1.05, 'IVT', size=12)\n",
    "\n",
    "ax1.set_title('AR IDA integration', size=14)\n",
    "\n",
    "#fig1.savefig(rootdir+'plots/fig1.png', dpi=600)\n",
    "plt.show()\n",
    "plt.close()\n",
    "del(fig1)"
   ]
  },
  {
   "cell_type": "code",
   "execution_count": null,
   "metadata": {},
   "outputs": [],
   "source": []
  }
 ],
 "metadata": {
  "kernelspec": {
   "display_name": "Python 3",
   "language": "python",
   "name": "python3"
  },
  "language_info": {
   "codemirror_mode": {
    "name": "ipython",
    "version": 3
   },
   "file_extension": ".py",
   "mimetype": "text/x-python",
   "name": "python",
   "nbconvert_exporter": "python",
   "pygments_lexer": "ipython3",
   "version": "3.6.8"
  }
 },
 "nbformat": 4,
 "nbformat_minor": 2
}
