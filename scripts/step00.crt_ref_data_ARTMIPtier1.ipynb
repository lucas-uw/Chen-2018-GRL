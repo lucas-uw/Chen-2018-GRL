{
 "cells": [
  {
   "cell_type": "markdown",
   "metadata": {},
   "source": [
    "## description:\n",
    "\n",
    "This script creates the landmask, and the coastal line mask for the analysis.\n",
    "\n",
    "Input: data/ref_data/MERR2_landmask.nc, data/ref_data/area.nc\n",
    "\n",
    "Output: data/ref_data/ARanalysis_ref_data.nc"
   ]
  },
  {
   "cell_type": "code",
   "execution_count": 2,
   "metadata": {},
   "outputs": [],
   "source": [
    "import numpy as np\n",
    "import netCDF4 as nc\n",
    "\n",
    "import cv2\n",
    "\n",
    "import matplotlib.pyplot as plt\n",
    "# for patch re-read\n",
    "from matplotlib.backends.backend_agg import FigureCanvasAgg as FigureCanvas\n",
    "from matplotlib.figure import Figure\n",
    "\n",
    "%matplotlib inline"
   ]
  },
  {
   "cell_type": "code",
   "execution_count": 3,
   "metadata": {},
   "outputs": [],
   "source": [
    "rootdir = '/raid1/chen423/serdp/archive/GRL2018/'"
   ]
  },
  {
   "cell_type": "code",
   "execution_count": 4,
   "metadata": {},
   "outputs": [],
   "source": [
    "def get_nc_data(infile, var):\n",
    "    tmpgroup = nc.Dataset(infile, 'r', format='NETCDF4')\n",
    "    outdata_raw = tmpgroup.variables[var][:]\n",
    "    tmpgroup.close()\n",
    "    \n",
    "    outdata = np.zeros(outdata_raw.shape)\n",
    "    outdata[:,:,0:288] = outdata_raw[:,:,288:576]\n",
    "    outdata[:,:,288:576] = outdata_raw[:,:,0:288]\n",
    "    \n",
    "    return outdata"
   ]
  },
  {
   "cell_type": "code",
   "execution_count": 8,
   "metadata": {},
   "outputs": [],
   "source": [
    "def crt_landmask():\n",
    "    infile = rootdir+'data/ref_data/MERRA2_landmask.nc'\n",
    "    tmpgroup = nc.Dataset(infile, 'r', format='NETCDF4')\n",
    "    mask_raw = tmpgroup.variables['FRLAND'][0,:,:]\n",
    "    lat = tmpgroup.variables['lat'][:]\n",
    "    lon_raw = tmpgroup.variables['lon'][:]\n",
    "    tmpgroup.close()\n",
    "    \n",
    "    mask = np.zeros(mask_raw.shape)\n",
    "    mask[:,0:288] = mask_raw[:,288:576]\n",
    "    mask[:,288:576] = mask_raw[:,0:288]\n",
    "    \n",
    "    lon = np.zeros(lon_raw.shape)\n",
    "    lon[0:288] = lon_raw[288:576]\n",
    "    lon[288:576] = lon_raw[0:288]\n",
    "    \n",
    "    mask[mask>0]=1\n",
    "    return mask, lat, lon"
   ]
  },
  {
   "cell_type": "code",
   "execution_count": 9,
   "metadata": {},
   "outputs": [],
   "source": [
    "def crt_gridarea():\n",
    "    # unit of output is km^2\n",
    "    infile = rootdir+'data/ref_data/area.nc'\n",
    "    tmpgroup = nc.Dataset(infile, 'r', format='NETCDF4')\n",
    "    area_raw = tmpgroup.variables['cell_area'][:]\n",
    "    tmpgroup.close()\n",
    "    \n",
    "    area = np.zeros(area_raw.shape)\n",
    "    area[:,0:288] = area_raw[:,288:576]/1000.0/1000.0\n",
    "    area[:,288:576] = area_raw[:,0:288]/1000.0/1000.0\n",
    "    \n",
    "    return area"
   ]
  },
  {
   "cell_type": "code",
   "execution_count": 10,
   "metadata": {},
   "outputs": [],
   "source": [
    "landmask, lats, lons = crt_landmask()\n",
    "gridarea = crt_gridarea()"
   ]
  },
  {
   "cell_type": "code",
   "execution_count": 11,
   "metadata": {},
   "outputs": [],
   "source": [
    "def int_matrix(inmatrix):\n",
    "    # since OpenCV only accepts ndarray of uint8 as \"figure\"\n",
    "    nx,ny = inmatrix.shape[0:2]\n",
    "    outdata = np.ones((nx,ny), dtype='uint8')\n",
    "    for x in np.arange(nx):\n",
    "        for y in np.arange(ny):\n",
    "            outdata[x,y] = int(inmatrix[x,y])\n",
    "            \n",
    "    return outdata"
   ]
  },
  {
   "cell_type": "code",
   "execution_count": 12,
   "metadata": {},
   "outputs": [
    {
     "data": {
      "image/png": "[encoded data removed]",
      "text/plain": [
       "<Figure size 432x288 with 2 Axes>"
      ]
     },
     "metadata": {},
     "output_type": "display_data"
    }
   ],
   "source": [
    "# create landmask for NA\n",
    "landmask_int = int_matrix(landmask)\n",
    "im2, contours_full, hirea = cv2.findContours(landmask_int, cv2.RETR_TREE, cv2.CHAIN_APPROX_NONE)\n",
    "contours_westcoast_patch = contours_full[139]\n",
    "landmask_NA = np.ones(landmask.shape)\n",
    "cv2.fillConvexPoly(landmask_NA, contours_westcoast_patch, 0)\n",
    "landmask_NA[:,0:347] = 1\n",
    "landmask_NA[0:230,:]=1\n",
    "landmask_NA[300:,:]=1\n",
    "plt.figure()\n",
    "plt.pcolormesh(landmask_NA)\n",
    "plt.colorbar()\n",
    "plt.show()\n",
    "\n",
    "## create NA contour\n",
    "#landmask_int = int_matrix(landmask)\n",
    "#im2, contours_full, hirea = cv2.findContours(landmask_int, cv2.RETR_TREE, cv2.CHAIN_APPROX_NONE)\n",
    "#contours_westcoast_patch = contours_full[139]"
   ]
  },
  {
   "cell_type": "markdown",
   "metadata": {},
   "source": [
    "## find boundraies of west coast, between 25-60"
   ]
  },
  {
   "cell_type": "code",
   "execution_count": 13,
   "metadata": {},
   "outputs": [],
   "source": [
    "def generate_west_coast_points(landmask):\n",
    "    # between 25N-60N\n",
    "    # patch number is 139, from experiments..\n",
    "    landmask_int = int_matrix(landmask)\n",
    "    im2, contours_full, hirea = cv2.findContours(landmask_int, cv2.RETR_TREE, cv2.CHAIN_APPROX_NONE)\n",
    "    contours_westcoast_patch = contours_full[139]\n",
    "    \n",
    "    west_coast_pt_xs = []\n",
    "    west_coast_pt_ys = []\n",
    "\n",
    "    for i in np.arange(contours_westcoast_patch.shape[0]):\n",
    "        if contours_westcoast_patch[i,0,0]>=347 and contours_westcoast_patch[i,0,0]<=400:\n",
    "            if contours_westcoast_patch[i,0,1]>=230 and contours_westcoast_patch[i,0,1]<=300:\n",
    "                west_coast_pt_xs.append(contours_westcoast_patch[i,0,1])\n",
    "                west_coast_pt_ys.append(contours_westcoast_patch[i,0,0])\n",
    "                \n",
    "    west_coast_pt_xs = np.asarray(west_coast_pt_xs)\n",
    "    west_coast_pt_ys = np.asarray(west_coast_pt_ys)\n",
    "            \n",
    "    west_coast_pt_lats = lats[west_coast_pt_xs]\n",
    "    west_coast_pt_lons = lons[west_coast_pt_ys]\n",
    "    \n",
    "    return west_coast_pt_xs, west_coast_pt_ys, west_coast_pt_lats, west_coast_pt_lons"
   ]
  },
  {
   "cell_type": "code",
   "execution_count": 14,
   "metadata": {},
   "outputs": [
    {
     "name": "stdout",
     "output_type": "stream",
     "text": [
      "(91,)\n"
     ]
    }
   ],
   "source": [
    "west_coast_pt_xs, west_coast_pt_ys, west_coast_pt_lats, west_coast_pt_lons = generate_west_coast_points(landmask)\n",
    "print(west_coast_pt_xs.shape)"
   ]
  },
  {
   "cell_type": "code",
   "execution_count": 35,
   "metadata": {},
   "outputs": [],
   "source": [
    "## check west coast line\n",
    "\n",
    "#landmask_int = int_matrix(landmask)\n",
    "#im2, contours_full, hirea = cv2.findContours(landmask_int, cv2.RETR_TREE, cv2.CHAIN_APPROX_NONE)\n",
    "#contours_westcoast_patch = contours_full[139]\n",
    "#plt.figure(figsize=(3,4))\n",
    "#plt.plot(contours_westcoast_patch[:,0,0], contours_westcoast_patch[:,0,1])\n",
    "#plt.xlim([347,400])\n",
    "#plt.ylim([230,300])\n",
    "#plt.show()"
   ]
  },
  {
   "cell_type": "code",
   "execution_count": 16,
   "metadata": {},
   "outputs": [],
   "source": [
    "# one-time code, store all the generated reference data into one file\n",
    "#outfile = rootdir+'data/ref_data/ARanalysis_ref_data.nc'\n",
    "outgroup = nc.Dataset(outfile, 'w', format='NETCDF4')\n",
    "\n",
    "# create dimensions\n",
    "latdim = outgroup.createDimension('lat', 361)\n",
    "londim = outgroup.createDimension('lon', 576)\n",
    "sdim = outgroup.createDimension('space', 91)\n",
    "    \n",
    "# create dimension variables\n",
    "latvar = outgroup.createVariable('lat', 'f4', ('lat'))\n",
    "latvar.stardard_name = 'latitude'\n",
    "latvar.units = 'degrees_north'\n",
    "latvar[:] = lats\n",
    "lonvar = outgroup.createVariable('lon', 'f4', ('lon'))\n",
    "lonvar.standard_name = 'longitude'\n",
    "lonvar.units = 'degrees_east'\n",
    "lonvar[:] = lons\n",
    "svar = outgroup.createVariable('space', 'i', ('space'))\n",
    "svar.long_name = 'grids along NA west coast'\n",
    "svar[:] = np.arange(91)\n",
    "\n",
    "# create variables\n",
    "maskvar = outgroup.createVariable('landmask', 'i4', ('lat','lon'))\n",
    "maskvar.long_name = 'land mask'\n",
    "maskvar.note = '1 for land, 0 for ocean. Used in Python'\n",
    "maskvar[:] = landmask\n",
    "\n",
    "NAmaskvar = outgroup.createVariable('landmask_NA', 'i4', ('lat','lon'))\n",
    "NAmaskvar.long_name = 'land mask for NA'\n",
    "NAmaskvar.readme = 'not for the whole NA, only for west coast analysis. Check the actual map.'\n",
    "NAmaskvar.note = '0 for land, 1 for ocean. Used in Python'\n",
    "NAmaskvar[:] = landmask_NA\n",
    "\n",
    "areavar = outgroup.createVariable('gridarea', 'f4', ('lat','lon'))\n",
    "areavar.long_name = 'grid area'\n",
    "areavar.units = 'km^2'\n",
    "areavar.source = 'CDO gridarea'\n",
    "areavar[:] = gridarea\n",
    "\n",
    "xvar = outgroup.createVariable('pt_x', 'i4', ('space'))\n",
    "xvar.long_name = 'x coordinate of NA west coast points'\n",
    "xvar[:] = west_coast_pt_xs\n",
    "yvar = outgroup.createVariable('pt_y', 'i4', ('space'))\n",
    "yvar.long_name = 'y coordinate of NA west coast points'\n",
    "yvar[:] = west_coast_pt_ys\n",
    "ptlat = outgroup.createVariable('pt_lat', 'f4', ('space'))\n",
    "ptlat.long_name = 'lat of NA west coast points'\n",
    "ptlat[:] = west_coast_pt_lats\n",
    "ptlon = outgroup.createVariable('pt_lon', 'f4', ('space'))\n",
    "ptlon.long_name = 'lon of NA west coast points'\n",
    "ptlon[:] = west_coast_pt_lons\n",
    "\n",
    "outgroup.script = rootdir+'Step0_crt_ref_data_ARTMIPtier1.ipynb'\n",
    "\n",
    "outgroup.close()"
   ]
  },
  {
   "cell_type": "code",
   "execution_count": null,
   "metadata": {},
   "outputs": [],
   "source": []
  }
 ],
 "metadata": {
  "kernelspec": {
   "display_name": "Python 3",
   "language": "python",
   "name": "python3"
  },
  "language_info": {
   "codemirror_mode": {
    "name": "ipython",
    "version": 3
   },
   "file_extension": ".py",
   "mimetype": "text/x-python",
   "name": "python",
   "nbconvert_exporter": "python",
   "pygments_lexer": "ipython3",
   "version": "3.6.8"
  }
 },
 "nbformat": 4,
 "nbformat_minor": 2
}
