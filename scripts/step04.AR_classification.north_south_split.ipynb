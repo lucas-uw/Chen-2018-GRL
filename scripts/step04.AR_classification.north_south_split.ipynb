{
 "cells": [
  {
   "cell_type": "code",
   "execution_count": 1,
   "metadata": {},
   "outputs": [],
   "source": [
    "import numpy as np\n",
    "import netCDF4 as nc\n",
    "import datetime as dt\n",
    "import pandas as pd\n",
    "\n",
    "from sklearn.cluster import KMeans\n",
    "#import mpl_toolkits.mplot3d as mpl3d\n",
    "\n",
    "import matplotlib\n",
    "import matplotlib.pyplot as plt\n",
    "from matplotlib.colors import ListedColormap\n",
    "\n",
    "%matplotlib inline"
   ]
  },
  {
   "cell_type": "code",
   "execution_count": 2,
   "metadata": {},
   "outputs": [],
   "source": [
    "rootdir = '/raid1/chen423/serdp/archive/GRL2018/'"
   ]
  },
  {
   "cell_type": "code",
   "execution_count": 3,
   "metadata": {},
   "outputs": [],
   "source": [
    "def get_nc_data(infile, var):\n",
    "    tmpgroup = nc.Dataset(infile, 'r', format='NETCDF4')\n",
    "    outdata = tmpgroup.variables[var][:]\n",
    "    tmpgroup.close()\n",
    "    return outdata"
   ]
  },
  {
   "cell_type": "markdown",
   "metadata": {},
   "source": [
    "### classification functions"
   ]
  },
  {
   "cell_type": "code",
   "execution_count": 4,
   "metadata": {},
   "outputs": [],
   "source": [
    "def normalize_input_various_method(indata, method):\n",
    "    # only handles 1-d array\n",
    "    \n",
    "    if method=='meanstd':\n",
    "        outdata = (indata-np.mean(indata))/np.std(indata)\n",
    "    \n",
    "    if method=='uniform':\n",
    "        outdata = (indata-np.min(indata))/(np.max(indata)-np.min(indata))\n",
    "    \n",
    "    if method=='cdf':\n",
    "        outdata = np.ones(indata.shape)*9999\n",
    "        for i in np.arange(indata.shape[0]):\n",
    "            outdata[i] = ((indata<=indata[i]).sum())/indata.shape[0]\n",
    "        \n",
    "    return outdata"
   ]
  },
  {
   "cell_type": "markdown",
   "metadata": {},
   "source": [
    "### plots"
   ]
  },
  {
   "cell_type": "code",
   "execution_count": 5,
   "metadata": {},
   "outputs": [],
   "source": [
    "dic_feature_id = {'area (whole)':0, 'area (land)':1, 'intensity (whole)':2, 'intensity (land)':3, 'coastal width':4,\n",
    "                  'coastal intensity':5, 'start time':6, 'duration':7, 'center time':8, 'center lat':9, 'center lon':10}"
   ]
  },
  {
   "cell_type": "code",
   "execution_count": 6,
   "metadata": {},
   "outputs": [],
   "source": [
    "def AR_classification(nclass, ARfeature_full, indic):\n",
    "    nfeatures = len(indic.keys())\n",
    "    ARfeature_norm = np.zeros((ARfeature_full.shape[0], nfeatures))\n",
    "    for f in np.arange(nfeatures):\n",
    "        tmp_feature = list(indic.keys())[f]\n",
    "        #print(tmp_feature, dic_feature_id[tmp_feature], indic[tmp_feature])\n",
    "        ARfeature_norm[:,f] = normalize_input_various_method(ARfeature_full[:,dic_feature_id[tmp_feature]], indic[tmp_feature])\n",
    "\n",
    "    kmean_model = KMeans(n_clusters=nclass, random_state=0)\n",
    "    kmean_results = kmean_model.fit(ARfeature_norm)\n",
    "\n",
    "    return kmean_results.labels_, ARfeature_norm, list(indic.keys())"
   ]
  },
  {
   "cell_type": "code",
   "execution_count": 7,
   "metadata": {},
   "outputs": [],
   "source": [
    "def consistent_AR_class_order(indata, order):\n",
    "    # use: to make the AR class index consistent between different datasets.\n",
    "    outdata = np.ones(indata.shape, dtype=np.int32)*9999\n",
    "    outdata[indata==0] = 9990\n",
    "    outdata[indata==1] = 9991\n",
    "    outdata[indata==2] = 9992\n",
    "    for i in np.arange(3):\n",
    "        outdata[outdata==(9990+order[i])] = int(i)\n",
    "    return outdata"
   ]
  },
  {
   "cell_type": "code",
   "execution_count": 8,
   "metadata": {},
   "outputs": [],
   "source": [
    "def split_AR_ns(ARfeature_full):\n",
    "    # taking 40 as split\n",
    "    latbound = 40.0\n",
    "    ARlat = ARfeature_full[:,9]\n",
    "    nfeatures = ARfeature_full.shape[1]\n",
    "    nnorth = (ARlat>latbound).sum()\n",
    "    nsouth = (ARlat<=latbound).sum()\n",
    "    ARfeature_north = np.zeros((nnorth, nfeatures))\n",
    "    ARfeature_south = np.zeros((nsouth, nfeatures))\n",
    "    \n",
    "    count_n = 0\n",
    "    count_s = 0\n",
    "    \n",
    "    for i in np.arange(ARfeature_full.shape[0]):\n",
    "        if ARfeature_full[i,9]<=latbound:\n",
    "            ARfeature_south[count_s,:] = ARfeature_full[i,:]\n",
    "            count_s = count_s + 1\n",
    "        elif ARfeature_full[i,9]>latbound:\n",
    "            ARfeature_north[count_n,:] = ARfeature_full[i,:]\n",
    "            count_n = count_n + 1\n",
    "    \n",
    "    return ARfeature_north, ARfeature_south"
   ]
  },
  {
   "cell_type": "code",
   "execution_count": 9,
   "metadata": {},
   "outputs": [],
   "source": [
    "def visualize_feature_hist(nclasses, kmean_result, feature, feature_names, nstd, ymaxs):\n",
    "\n",
    "    colors = ['royalblue', 'lightseagreen', 'orange', 'fuchsia']\n",
    "    #nstd = 6\n",
    "    xmins = [-1*nstd,-1*nstd]\n",
    "    xmaxs = [nstd, nstd]\n",
    "    bins = np.arange(-1*nstd,nstd+0.1,0.25)\n",
    "    ymins = [0,0,0,0]\n",
    "\n",
    "    fig_handle = plt.figure(figsize=(3.5*len(feature_names),nclasses*3))\n",
    "\n",
    "    count = 1\n",
    "    for x in np.arange(nclasses):\n",
    "        ymin = ymins[x]\n",
    "        ymax = ymaxs[x]\n",
    "        for y in np.arange(len(feature_names)):\n",
    "            ax = fig_handle.add_subplot(nclasses,len(feature_names),count)\n",
    "            color = colors[x]\n",
    "            xmin = xmins[y]\n",
    "            xmax = xmaxs[y]\n",
    "            ax.hist(feature[:,y][np.where(kmean_result==x)], bins, color=color)\n",
    "            ax.plot((0,0), (0,6000), '--', color='black')\n",
    "            ax.plot((1,1), (0,6000), '-', color='gray', linewidth=1, alpha=0.6)\n",
    "            ax.plot((-1,-1), (0,6000), '-', color='gray', linewidth=1, alpha=0.6)\n",
    "            ax.set_xlim([xmin, xmax])\n",
    "            ax.set_ylim([ymin, ymax])\n",
    "            if x!=nclasses-1:\n",
    "                ax.set_xticklabels([])\n",
    "            else:\n",
    "                ax.xaxis.set_tick_params(labelsize=10)\n",
    "                ax.set_xlabel('Normalized '+feature_names[y], size=12)\n",
    "            if y>0:\n",
    "                ax.set_yticklabels([])\n",
    "            else:\n",
    "                ax.yaxis.set_tick_params(labelsize=10)\n",
    "                ax.set_ylabel('# of events', size=12)\n",
    "            count = count + 1\n",
    "\n",
    "    plt.tight_layout()\n",
    "    \n",
    "    return fig_handle"
   ]
  },
  {
   "cell_type": "markdown",
   "metadata": {},
   "source": [
    "## main functions"
   ]
  },
  {
   "cell_type": "code",
   "execution_count": 10,
   "metadata": {},
   "outputs": [],
   "source": [
    "def derive_classified_AR(method):\n",
    "    infile = rootdir+'data/AR_features/part2/%s.AR_events_feature.1981-2015.nc' % (method)\n",
    "    ARfeature_full = get_nc_data(infile, 'AR_event_feature')\n",
    "    ARfeature_north, ARfeature_south = split_AR_ns(ARfeature_full)\n",
    "\n",
    "    # north\n",
    "    AR_class_index_n_raw, ARfeature_norm_n, ARfeature_names = AR_classification(3, ARfeature_north, {'duration':'meanstd', 'intensity (land)':'meanstd'})\n",
    "    AR_class_index_n = consistent_AR_class_order(AR_class_index_n_raw, conversion_orders_n[method])\n",
    "    \n",
    "    # south\n",
    "    AR_class_index_s_raw, ARfeature_norm_s, ARfeature_names = AR_classification(3, ARfeature_south, {'duration':'meanstd', 'intensity (land)':'meanstd'})\n",
    "    AR_class_index_s = consistent_AR_class_order(AR_class_index_s_raw, conversion_orders_s[method])\n",
    "    \n",
    "    return AR_class_index_n, ARfeature_norm_n, AR_class_index_s, ARfeature_norm_s, ARfeature_names"
   ]
  },
  {
   "cell_type": "code",
   "execution_count": 51,
   "metadata": {},
   "outputs": [],
   "source": [
    "# GRL data version\n",
    "#conversion_orders_n = {'rutz':[2,0,1], 'gershunov':[0,1,2], 'guan':[0,2,1],\n",
    "#                       'goldenson':[0,1,2], 'pnnl1':[1,0,2], 'pnnl2':[2,1,0],\n",
    "#                       'lora':[0,1,2], 'payne':[0,2,1], 'tempest':[1,0,2], 'walton':[0,2,1]}\n",
    "\n",
    "#conversion_orders_s = {'rutz':[0,2,1], 'gershunov':[1,0,2], 'guan':[0,2,1],\n",
    "#                       'goldenson':[1,2,0], 'pnnl1':[2,0,1], 'pnnl2':[1,2,0],\n",
    "#                       'lora':[0,1,2], 'payne':[0,2,1], 'tempest':[0,1,2], 'walton':[1,2,0]}\n",
    "\n",
    "# updated version\n",
    "conversion_orders_n = {'rutz':[0,2,1], 'gershunov':[0,2,1], 'guan':[2,0,1],\n",
    "                       'goldenson':[0,1,2], 'pnnl1':[0,2,1], 'pnnl2':[0,1,2],\n",
    "                       'lora':[0,1,2], 'payne':[0,2,1], 'tempest':[0,1,2], 'walton':[0,1,2]}\n",
    "\n",
    "conversion_orders_s = {'rutz':[1,0,2], 'gershunov':[0,1,2], 'guan':[2,1,0],\n",
    "                       'goldenson':[0,1,2], 'pnnl1':[0,2,1], 'pnnl2':[0,1,2],\n",
    "                       'lora':[0,1,2], 'payne':[0,2,1], 'tempest':[0,2,1], 'walton':[1,0,2]}\n",
    "\n",
    "AR_class_name = ['weak','flash','prolong']"
   ]
  },
  {
   "cell_type": "code",
   "execution_count": 52,
   "metadata": {},
   "outputs": [
    {
     "data": {
      "image/png": "[encoded data removed]",
      "text/plain": [
       "<Figure size 504x648 with 6 Axes>"
      ]
     },
     "metadata": {},
     "output_type": "display_data"
    },
    {
     "data": {
      "image/png": "[encoded data removed]",
      "text/plain": [
       "<Figure size 504x648 with 6 Axes>"
      ]
     },
     "metadata": {},
     "output_type": "display_data"
    }
   ],
   "source": [
    "method = 'rutz'\n",
    "\n",
    "AR_class_index_n, ARfeature_norm_n, AR_class_index_s, ARfeature_norm_s, ARfeature_names = derive_classified_AR(method)\n",
    "\n",
    "fig1 = visualize_feature_hist(3, AR_class_index_n, ARfeature_norm_n, ARfeature_names, 6, [200,200,200])\n",
    "fig2 = visualize_feature_hist(3, AR_class_index_s, ARfeature_norm_s, ARfeature_names, 6, [200,200,200])"
   ]
  },
  {
   "cell_type": "markdown",
   "metadata": {},
   "source": [
    "### save results to a netcdf file for easy retrieval"
   ]
  },
  {
   "cell_type": "code",
   "execution_count": 53,
   "metadata": {},
   "outputs": [],
   "source": [
    "def save_ARclassification_north(method):\n",
    "    outfile = rootdir+'data/AR_classification/north_south_split/AR_3class.north.%s.nc' % (method)\n",
    "    \n",
    "    outgroup = nc.Dataset(outfile, 'w', format='NETCDF4')\n",
    "    \n",
    "    # dimensions\n",
    "    nedim = outgroup.createDimension('ARevent', None)\n",
    "    fsdim = outgroup.createDimension('ARfeature_selected', 2)\n",
    "    \n",
    "    # dim vars\n",
    "    nevar = outgroup.createVariable('ARevent', 'i4', ('ARevent'))\n",
    "    nevar[:] = np.arange(AR_class_index_n.shape[0])\n",
    "    fsvar = outgroup.createVariable('ARfeature_selected', 'S2', ('ARfeature_selected'))\n",
    "    fsvar[0] = 'duration'\n",
    "    fsvar[1] = 'intensity (land)'\n",
    "    \n",
    "    # variables\n",
    "    ARvar_index = outgroup.createVariable('ARclass_index', 'i4', ('ARevent'))\n",
    "    ARvar_index.description = '0->weak AR;  1->flash AR;  2->prolonged AR'\n",
    "    ARvar_index[:] = AR_class_index_n\n",
    "    \n",
    "    ARvar_fnorm = outgroup.createVariable('ARfeature_norm', 'f4', ('ARevent', 'ARfeature_selected'))\n",
    "    ARvar_fnorm.description = 'normalized using meanstd approach. see paper1_experiments/Regression_with_AR/Step3_AR_classification.module.north_south_split.ipynb for details'\n",
    "    ARvar_fnorm[:] = ARfeature_norm_n\n",
    "    ARvar_fnorm.dim1 = 'duration'\n",
    "    ARvar_fnorm.dim2 = 'intensity (land)'\n",
    "    \n",
    "    outgroup.note = 'ARfeature_full taken from '+rootdir+'data/AR_features/part2/<method>.AR_events_feature.1981-2015.nc'\n",
    "    outgroup.script = rootdir+'scripts/step3-ns.AR_classification.module.north_south_split.ipynb'\n",
    "    \n",
    "    outgroup.close()\n",
    "\n",
    "    \n",
    "def save_ARclassification_south(method):\n",
    "    outfile = rootdir+'data/AR_classification/north_south_split/AR_3class.south.%s.nc' % (method)\n",
    "    \n",
    "    outgroup = nc.Dataset(outfile, 'w', format='NETCDF4')\n",
    "    \n",
    "    # dimensions\n",
    "    nedim = outgroup.createDimension('ARevent', None)\n",
    "    fsdim = outgroup.createDimension('ARfeature_selected', 2)\n",
    "    \n",
    "    # dim vars\n",
    "    nevar = outgroup.createVariable('ARevent', 'i4', ('ARevent'))\n",
    "    nevar[:] = np.arange(AR_class_index_s.shape[0])\n",
    "    fsvar = outgroup.createVariable('ARfeature_selected', 'S2', ('ARfeature_selected'))\n",
    "    fsvar[0] = 'duration'\n",
    "    fsvar[1] = 'intensity (land)'\n",
    "    \n",
    "    # variables\n",
    "    ARvar_index = outgroup.createVariable('ARclass_index', 'i4', ('ARevent'))\n",
    "    ARvar_index.description = '0->weak AR;  1->flash AR;  2->prolonged AR'\n",
    "    ARvar_index[:] = AR_class_index_s\n",
    "    \n",
    "    ARvar_fnorm = outgroup.createVariable('ARfeature_norm', 'f4', ('ARevent', 'ARfeature_selected'))\n",
    "    ARvar_fnorm.description = 'normalized using meanstd approach. see paper1_experiments/Regression_with_AR/Step3_AR_classification.module.north_south_split.ipynb for details'\n",
    "    ARvar_fnorm[:] = ARfeature_norm_s\n",
    "    ARvar_fnorm.dim1 = 'duration'\n",
    "    ARvar_fnorm.dim2 = 'intensity (land)'\n",
    "    \n",
    "    outgroup.note = 'ARfeature_full taken from '+rootdir+'data/AR_features/part2/<method>.AR_events_feature.1981-2015.nc'\n",
    "    outgroup.script = rootdir+'scripts/step3-ns.AR_classification.module.north_south_split.ipynb'\n",
    "    \n",
    "    outgroup.close()"
   ]
  },
  {
   "cell_type": "code",
   "execution_count": 54,
   "metadata": {},
   "outputs": [
    {
     "name": "stdout",
     "output_type": "stream",
     "text": [
      "rutz\n",
      "gershunov\n",
      "guan\n",
      "goldenson\n",
      "pnnl1\n",
      "pnnl2\n",
      "lora\n",
      "payne\n",
      "tempest\n",
      "walton\n"
     ]
    }
   ],
   "source": [
    "methods = ['rutz','gershunov','guan','goldenson','pnnl1','pnnl2','lora','payne','tempest','walton']\n",
    "\n",
    "for method in methods:\n",
    "    print(method)\n",
    "    AR_class_index_n, ARfeature_norm_n, AR_class_index_s, ARfeature_norm_s, ARfeature_names = derive_classified_AR(method)\n",
    "    save_ARclassification_north(method)\n",
    "    save_ARclassification_south(method)"
   ]
  },
  {
   "cell_type": "code",
   "execution_count": null,
   "metadata": {},
   "outputs": [],
   "source": []
  }
 ],
 "metadata": {
  "kernelspec": {
   "display_name": "Python 3",
   "language": "python",
   "name": "python3"
  },
  "language_info": {
   "codemirror_mode": {
    "name": "ipython",
    "version": 3
   },
   "file_extension": ".py",
   "mimetype": "text/x-python",
   "name": "python",
   "nbconvert_exporter": "python",
   "pygments_lexer": "ipython3",
   "version": "3.6.8"
  }
 },
 "nbformat": 4,
 "nbformat_minor": 2
}
