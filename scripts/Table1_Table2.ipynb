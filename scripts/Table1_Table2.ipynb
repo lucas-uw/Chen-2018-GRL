{
 "cells": [
  {
   "cell_type": "code",
   "execution_count": 1,
   "metadata": {},
   "outputs": [],
   "source": [
    "import numpy as np\n",
    "import netCDF4 as nc\n",
    "import scipy"
   ]
  },
  {
   "cell_type": "code",
   "execution_count": 2,
   "metadata": {},
   "outputs": [],
   "source": [
    "rootdir = '/raid1/chen423/serdp/archive/GRL2018/'"
   ]
  },
  {
   "cell_type": "code",
   "execution_count": 3,
   "metadata": {},
   "outputs": [],
   "source": [
    "def get_nc_data(infile, var):\n",
    "    tmpgroup = nc.Dataset(infile, 'r', format='NETCDF4')\n",
    "    outdata = tmpgroup.variables[var][:]\n",
    "    tmpgroup.close()\n",
    "    return outdata"
   ]
  },
  {
   "cell_type": "code",
   "execution_count": 8,
   "metadata": {},
   "outputs": [],
   "source": [
    "def retrieve_ARclass(method):\n",
    "    file_ffeature = rootdir+'data/AR_features/part2/%s.AR_events_feature.1981-2015.nc' % (method)\n",
    "    ARfeature_full = get_nc_data(file_ffeature, 'AR_event_feature')\n",
    "    file_class = rootdir+'data/AR_classification/AR_3class.%s.nc' % (method)\n",
    "    AR_class_index = get_nc_data(file_class, 'ARclass_index')\n",
    "    ARfeature_norm = get_nc_data(file_class, 'ARfeature_norm')\n",
    "    \n",
    "    return AR_class_index, ARfeature_full, ARfeature_norm"
   ]
  },
  {
   "cell_type": "markdown",
   "metadata": {},
   "source": [
    "## 1. Table 1\n",
    "\n",
    "### 1.1 north-south fraction"
   ]
  },
  {
   "cell_type": "code",
   "execution_count": 15,
   "metadata": {},
   "outputs": [
    {
     "name": "stdout",
     "output_type": "stream",
     "text": [
      "rutz\n",
      "  total   north   south\n",
      "  10255       7389      2866\n",
      "gershunov\n",
      "  total   north   south\n",
      "  7282       5482      1800\n",
      "guan\n",
      "  total   north   south\n",
      "  12683       7619      5064\n",
      "goldenson\n",
      "  total   north   south\n",
      "  5685       4209      1476\n",
      "pnnl1\n",
      "  total   north   south\n",
      "  1520       1229      291\n",
      "pnnl2\n",
      "  total   north   south\n",
      "  1687       1603      84\n"
     ]
    }
   ],
   "source": [
    "for method in ['rutz','gershunov','guan','goldenson','pnnl1','pnnl2']:\n",
    "    infile = rootdir+'data/AR_features/part2/%s.AR_events_feature.1981-2015.nc' % (method)\n",
    "    ARfeature_full = get_nc_data(infile, 'AR_event_feature')\n",
    "    location = ARfeature_full[:,9]\n",
    "    south_count = np.logical_and(location>=25, location<=40).sum()\n",
    "    north_count = np.logical_and(location>40, location<=60).sum()\n",
    "    print(method)\n",
    "    print('  total   north   south')\n",
    "    print('  %d       %d      %d' % (south_count+north_count, north_count, south_count))\n",
    "    #print(' north:  %d' % north_count)\n",
    "    #print(' south:  %d' % south_count)"
   ]
  },
  {
   "cell_type": "markdown",
   "metadata": {},
   "source": [
    "### 1.2 Fraction of each AR class"
   ]
  },
  {
   "cell_type": "code",
   "execution_count": 9,
   "metadata": {},
   "outputs": [
    {
     "name": "stdout",
     "output_type": "stream",
     "text": [
      "rutz\n",
      "58.8 27.8 13.4\n",
      "gershunov\n",
      "50.9 31.0 18.1\n",
      "guan\n",
      "56.2 31.1 12.7\n",
      "goldenson\n",
      "51.8 36.6 11.6\n",
      "pnnl1\n",
      "51.8 35.1 13.0\n",
      "pnnl2\n",
      "49.0 42.3 8.8\n"
     ]
    }
   ],
   "source": [
    "methods = ['rutz', 'gershunov', 'guan', 'goldenson', 'pnnl1', 'pnnl2']\n",
    "\n",
    "\n",
    "for method in methods:\n",
    "    print(method)\n",
    "    data1, _, _ = retrieve_ARclass(method)\n",
    "    print('%.1f %.1f %.1f' % ((data1==0).sum()*100/data1.shape[0], (data1==1).sum()*100/data1.shape[0], (data1==2).sum()*100/data1.shape[0]))"
   ]
  },
  {
   "cell_type": "markdown",
   "metadata": {},
   "source": [
    "## 2. Table 2"
   ]
  },
  {
   "cell_type": "code",
   "execution_count": 7,
   "metadata": {},
   "outputs": [
    {
     "name": "stdout",
     "output_type": "stream",
     "text": [
      "rutz\n",
      "intensity: 315.94  46.41\n",
      "       s: 318.31  54.38\n",
      "       n: 315.00  42.84\n",
      "gershunov\n",
      "intensity: 331.39  44.96\n",
      "       s: 326.68  46.92\n",
      "       n: 332.75  44.11\n",
      "guan\n",
      "intensity: 258.10  60.46\n",
      "       s: 249.41  66.90\n",
      "       n: 263.68  55.01\n",
      "goldenson\n",
      "intensity: 355.07  136.68\n",
      "       s: 296.96  112.21\n",
      "       n: 374.55  138.54\n",
      "pnnl1\n",
      "intensity: 504.23  104.55\n",
      "       s: 495.90  109.94\n",
      "       n: 505.96  102.61\n",
      "pnnl2\n",
      "intensity: 485.07  152.31\n",
      "       s: 521.42  130.09\n",
      "       n: 483.96  153.10\n"
     ]
    }
   ],
   "source": [
    "i = 7 # duration\n",
    "varname = 'duration'\n",
    "\n",
    "#i = 3 # indensity\n",
    "#varname = 'intensity'\n",
    "\n",
    "for method in ['rutz','gershunov','guan','goldenson','pnnl1','pnnl2']:\n",
    "    infile = rootdir+'data/AR_features/part2/%s.AR_events_feature.1981-2015.nc' % (method)\n",
    "    ARfeature_full = get_nc_data(infile, 'AR_event_feature')\n",
    "    location = ARfeature_full[:,9]\n",
    "    \n",
    "    \n",
    "    whole_data = ARfeature_full[:,i]\n",
    "    south_data = whole_data[np.logical_and(location>=25, location<=40)]\n",
    "    north_data = whole_data[np.logical_and(location>=40, location<=60)]\n",
    "    print(method)\n",
    "    print('%s: %.2f  %.2f' % (varname, whole_data.mean(), whole_data.std()))\n",
    "    print('       s: %.2f  %.2f' % (south_data.mean(), south_data.std()))\n",
    "    print('       n: %.2f  %.2f' % (north_data.mean(), north_data.std()))"
   ]
  },
  {
   "cell_type": "code",
   "execution_count": null,
   "metadata": {},
   "outputs": [],
   "source": []
  }
 ],
 "metadata": {
  "kernelspec": {
   "display_name": "Python 3",
   "language": "python",
   "name": "python3"
  },
  "language_info": {
   "codemirror_mode": {
    "name": "ipython",
    "version": 3
   },
   "file_extension": ".py",
   "mimetype": "text/x-python",
   "name": "python",
   "nbconvert_exporter": "python",
   "pygments_lexer": "ipython3",
   "version": "3.6.8"
  }
 },
 "nbformat": 4,
 "nbformat_minor": 2
}
